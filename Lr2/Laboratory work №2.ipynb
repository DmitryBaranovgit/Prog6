{
  "nbformat": 4,
  "nbformat_minor": 0,
  "metadata": {
    "colab": {
      "provenance": []
    },
    "kernelspec": {
      "name": "python3",
      "display_name": "Python 3"
    },
    "language_info": {
      "name": "python"
    }
  },
  "cells": [
    {
      "cell_type": "markdown",
      "source": [
        "Баранов Д.А. ИВТ 2.1."
      ],
      "metadata": {
        "id": "EX99To1IYyi2"
      }
    },
    {
      "cell_type": "markdown",
      "source": [
        "Лабораторная работа №2"
      ],
      "metadata": {
        "id": "bvtVuNFBYnjq"
      }
    },
    {
      "cell_type": "code",
      "source": [
        "import pandas as pd\n",
        "import numpy as np\n",
        "from collections import Counter"
      ],
      "metadata": {
        "id": "GyPTD0juY7vG"
      },
      "execution_count": 7,
      "outputs": []
    },
    {
      "cell_type": "code",
      "source": [
        "# Загрузка данных\n",
        "file_path = '/content/train.csv'\n",
        "data = pd.read_csv(file_path)"
      ],
      "metadata": {
        "id": "9io1hO_LZGg7"
      },
      "execution_count": 8,
      "outputs": []
    },
    {
      "cell_type": "code",
      "source": [
        "# Задача 1: Количество мужчин и женщин на параходе\n",
        "men_count = data[data['Sex'] == 'male'].shape[0]\n",
        "women_count = data[data['Sex'] == 'female'].shape[0]\n",
        "print(men_count, women_count)"
      ],
      "metadata": {
        "colab": {
          "base_uri": "https://localhost:8080/"
        },
        "id": "fUGmQobTZUqb",
        "outputId": "990918d5-1de2-4d96-846f-c0495f8a5638"
      },
      "execution_count": 10,
      "outputs": [
        {
          "output_type": "stream",
          "name": "stdout",
          "text": [
            "577 314\n"
          ]
        }
      ]
    },
    {
      "cell_type": "code",
      "source": [
        "# Задача 2: Количество пассажиров, загрузившихся на корабль в разных портах\n",
        "embarked_counts = data['Embarked'].value_counts()\n",
        "print(embarked_counts.get('S', 0), embarked_counts.get('C', 0), embarked_counts.get('Q', 0))"
      ],
      "metadata": {
        "colab": {
          "base_uri": "https://localhost:8080/"
        },
        "id": "BpS3pI_hae-J",
        "outputId": "92915f57-ab1b-4674-df2c-3747f1786bef"
      },
      "execution_count": 12,
      "outputs": [
        {
          "output_type": "stream",
          "name": "stdout",
          "text": [
            "644 168 77\n"
          ]
        }
      ]
    },
    {
      "cell_type": "code",
      "source": [
        "# Задача 3: Доля погибших на параходе\n",
        "survived_count = data['Survived'].sum()\n",
        "died_count = data.shape[0] - survived_count\n",
        "died_percentage = (died_count / data.shape[0]) * 100\n",
        "print(died_count, round(died_percentage, 2))"
      ],
      "metadata": {
        "colab": {
          "base_uri": "https://localhost:8080/"
        },
        "id": "IHWhch1OcrVC",
        "outputId": "1d345465-afb4-4a6f-9d56-4cc368485e2f"
      },
      "execution_count": 13,
      "outputs": [
        {
          "output_type": "stream",
          "name": "stdout",
          "text": [
            "549 61.62\n"
          ]
        }
      ]
    },
    {
      "cell_type": "code",
      "source": [
        "# Задача 4: Доля пассажиров по классам\n",
        "class_counts = data['Pclass'].value_counts(normalize = True) * 100\n",
        "print(round(class_counts.get(1, 0), 2), round(class_counts.get(2, 0), 2), round(class_counts.get(3, 0), 2))"
      ],
      "metadata": {
        "colab": {
          "base_uri": "https://localhost:8080/"
        },
        "id": "TxXMI2HldXX_",
        "outputId": "1e42fc7d-3e09-4c7c-af5e-7c7da4d01a3f"
      },
      "execution_count": 15,
      "outputs": [
        {
          "output_type": "stream",
          "name": "stdout",
          "text": [
            "24.24 20.65 55.11\n"
          ]
        }
      ]
    },
    {
      "cell_type": "code",
      "source": [
        "# Задача 5: Коэффициент корреляции Пирсона между SibSp и Parch\n",
        "correlation_sibsp_parch = data['SibSp'].corr(data['Parch'])\n",
        "print(round(correlation_sibsp_parch, 2))"
      ],
      "metadata": {
        "colab": {
          "base_uri": "https://localhost:8080/"
        },
        "id": "oNCRNff5eKwq",
        "outputId": "c22b4d66-8aca-4c06-a643-0a4a7f7a2ffa"
      },
      "execution_count": 16,
      "outputs": [
        {
          "output_type": "stream",
          "name": "stdout",
          "text": [
            "0.41\n"
          ]
        }
      ]
    },
    {
      "cell_type": "code",
      "source": [
        "# Задача 6: Корреляция с параметром Survived\n",
        "correlation_age_survived = data['Age'].corr(data['Survived'])\n",
        "correlation_sex_survived = data['Sex'].map({'male': 0, 'female': 1}).corr(data['Survived'])\n",
        "correlation_class_survived = data['Pclass'].corr(data['Survived'])\n",
        "print(round(correlation_age_survived, 2))\n",
        "print(round(correlation_sex_survived, 2))\n",
        "print(round(correlation_class_survived, 2))"
      ],
      "metadata": {
        "colab": {
          "base_uri": "https://localhost:8080/"
        },
        "id": "DJskHrbCeqPm",
        "outputId": "39010c09-37aa-4062-b977-b362c9d7567f"
      },
      "execution_count": 18,
      "outputs": [
        {
          "output_type": "stream",
          "name": "stdout",
          "text": [
            "-0.08\n",
            "0.54\n",
            "-0.34\n"
          ]
        }
      ]
    },
    {
      "cell_type": "code",
      "source": [
        "# Задача 7: Возраст\n",
        "mean_age = data['Age'].mean()\n",
        "median_age = data['Age'].median()\n",
        "min_age = data['Age'].min()\n",
        "max_age = data['Age'].max()\n",
        "print(round(mean_age, 2), median_age, min_age, max_age)"
      ],
      "metadata": {
        "colab": {
          "base_uri": "https://localhost:8080/"
        },
        "id": "-g3pn4KHf3u_",
        "outputId": "a6fbf57a-9999-493f-9a64-b27434f0d8d2"
      },
      "execution_count": 19,
      "outputs": [
        {
          "output_type": "stream",
          "name": "stdout",
          "text": [
            "29.7 28.0 0.42 80.0\n"
          ]
        }
      ]
    },
    {
      "cell_type": "code",
      "source": [
        "# Задача 8: Цена за билет\n",
        "mean_fare = data['Fare'].mean()\n",
        "median_fare = data['Fare'].median()\n",
        "min_fare = data['Fare'].min()\n",
        "max_fare = data['Fare'].max()\n",
        "print(round(mean_fare, 2), median_fare, min_fare, max_fare)"
      ],
      "metadata": {
        "colab": {
          "base_uri": "https://localhost:8080/"
        },
        "id": "pAPBeTltgUo8",
        "outputId": "2c3a10a5-8d02-4fa1-85ff-8966a630e8ab"
      },
      "execution_count": 20,
      "outputs": [
        {
          "output_type": "stream",
          "name": "stdout",
          "text": [
            "32.2 14.4542 0.0 512.3292\n"
          ]
        }
      ]
    },
    {
      "cell_type": "code",
      "source": [
        "# Функция для извлечения имени\n",
        "def extract_first_name(name, sex):\n",
        "  try:\n",
        "    title_and_name = name.split(',')[1].split('.')[1].strip()\n",
        "\n",
        "    if sex == 'female' and '(' in title_and_name:\n",
        "      first_name = title_and_name.split('(')[1].split(')')[0].split()[0]\n",
        "    else:\n",
        "      first_name = title_and_name.split()[0]\n",
        "    return first_name\n",
        "  except IndexError:\n",
        "    return None"
      ],
      "metadata": {
        "id": "ZKqh66wng8tp"
      },
      "execution_count": 32,
      "outputs": []
    },
    {
      "cell_type": "code",
      "source": [
        "# Задача 9: Популярное мужское имя на параходе\n",
        "male_names = data[data['Sex'] == 'male']['Name'].dropna().apply(lambda name: extract_first_name(name, 'male'))\n",
        "most_common_male_name = Counter(male_names).most_common(1)[0][0]\n",
        "print(most_common_male_name)"
      ],
      "metadata": {
        "colab": {
          "base_uri": "https://localhost:8080/"
        },
        "id": "xpoMUPxuhX7R",
        "outputId": "d47fde24-571e-43a0-9401-0a1c259b5751"
      },
      "execution_count": 36,
      "outputs": [
        {
          "output_type": "stream",
          "name": "stdout",
          "text": [
            "William\n"
          ]
        }
      ]
    },
    {
      "cell_type": "code",
      "source": [
        "# Задача 10: Популярные имена среди взросылх старше 15 лет\n",
        "adults = data[data['Age'] > 15]\n",
        "\n",
        "# Извлечение мужских имён\n",
        "male_names_adults = adults[adults['Sex'] == 'male']['Name'].dropna().apply(lambda name: extract_first_name(name, 'male'))\n",
        "most_common_male_name_adults = Counter(male_names_adults).most_common(1)[0][0]\n",
        "\n",
        "# Извлечение жекнских имён\n",
        "female_names_adults = adults[adults['Sex'] == 'female']['Name'].dropna().apply(lambda name: extract_first_name(name, 'female'))\n",
        "most_common_female_name_adults = Counter(female_names_adults).most_common(1)[0][0]\n",
        "\n",
        "print(most_common_male_name_adults, most_common_female_name_adults)"
      ],
      "metadata": {
        "colab": {
          "base_uri": "https://localhost:8080/"
        },
        "id": "QvsIlyR0irMA",
        "outputId": "06e61a28-2a47-4464-a795-084257037ec8"
      },
      "execution_count": 37,
      "outputs": [
        {
          "output_type": "stream",
          "name": "stdout",
          "text": [
            "William Anna\n"
          ]
        }
      ]
    }
  ]
}